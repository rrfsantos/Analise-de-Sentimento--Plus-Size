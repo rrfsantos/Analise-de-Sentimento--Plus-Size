{
  "nbformat": 4,
  "nbformat_minor": 0,
  "metadata": {
    "colab": {
      "name": "Tweets Plus Size.ipynb",
      "provenance": [],
      "collapsed_sections": []
    },
    "kernelspec": {
      "name": "python3",
      "display_name": "Python 3"
    }
  },
  "cells": [
    {
      "cell_type": "code",
      "execution_count": 2,
      "metadata": {
        "tags": []
      },
      "outputs": [
        {
          "output_type": "stream",
          "name": "stdout",
          "text": "Collecting selenium\n  Downloading selenium-3.141.0-py2.py3-none-any.whl (904 kB)\nRequirement already satisfied: urllib3 in c:\\programdata\\anaconda3\\lib\\site-packages (from selenium) (1.25.9)\nInstalling collected packages: selenium\nSuccessfully installed selenium-3.141.0\n"
        }
      ],
      "source": [
        "!pip3 install selenium"
      ]
    },
    {
      "cell_type": "code",
      "metadata": {
        "id": "JlNkbWlXe_N0",
        "colab_type": "code",
        "colab": {
          "base_uri": "https://localhost:8080/",
          "height": 595
        },
        "outputId": "fb06595c-ae49-492c-c305-42aa94c44d92"
      },
      "source": [
        "from bs4 import BeautifulSoup\n",
        "import urllib"
      ],
      "execution_count": 9,
      "outputs": []
    },
    {
      "cell_type": "code",
      "execution_count": 11,
      "metadata": {},
      "outputs": [
        {
          "output_type": "error",
          "ename": "AttributeError",
          "evalue": "module 'urllib' has no attribute 'urlopen'",
          "traceback": [
            "\u001b[1;31m---------------------------------------------------------------------------\u001b[0m",
            "\u001b[1;31mAttributeError\u001b[0m                            Traceback (most recent call last)",
            "\u001b[1;32m<ipython-input-11-f546fc148e34>\u001b[0m in \u001b[0;36m<module>\u001b[1;34m\u001b[0m\n\u001b[1;32m----> 1\u001b[1;33m \u001b[0mexternal_sites_html\u001b[0m \u001b[1;33m=\u001b[0m \u001b[0murllib\u001b[0m\u001b[1;33m.\u001b[0m\u001b[0murlopen\u001b[0m\u001b[1;33m(\u001b[0m\u001b[1;34m'https://www.instagram.com/<instagramname>/?hl=en'\u001b[0m\u001b[1;33m)\u001b[0m\u001b[1;33m\u001b[0m\u001b[1;33m\u001b[0m\u001b[0m\n\u001b[0m\u001b[0;32m      2\u001b[0m \u001b[0msoup\u001b[0m \u001b[1;33m=\u001b[0m \u001b[0mBeautifulSoup\u001b[0m\u001b[1;33m(\u001b[0m\u001b[0mexternal_sites_html\u001b[0m\u001b[1;33m,\u001b[0m \u001b[1;34m'lxml'\u001b[0m\u001b[1;33m)\u001b[0m\u001b[1;33m\u001b[0m\u001b[1;33m\u001b[0m\u001b[0m\n\u001b[0;32m      3\u001b[0m \u001b[1;33m\u001b[0m\u001b[0m\n\u001b[0;32m      4\u001b[0m \u001b[0mname\u001b[0m \u001b[1;33m=\u001b[0m \u001b[0msoup\u001b[0m\u001b[1;33m.\u001b[0m\u001b[0mfind\u001b[0m\u001b[1;33m(\u001b[0m\u001b[1;34m'meta'\u001b[0m\u001b[1;33m,\u001b[0m \u001b[0mattrs\u001b[0m\u001b[1;33m=\u001b[0m\u001b[1;33m{\u001b[0m\u001b[1;34m'property'\u001b[0m\u001b[1;33m:\u001b[0m\u001b[1;34m'og:title'\u001b[0m\u001b[1;33m}\u001b[0m\u001b[1;33m)\u001b[0m\u001b[1;33m\u001b[0m\u001b[1;33m\u001b[0m\u001b[0m\n\u001b[0;32m      5\u001b[0m \u001b[0mdescription\u001b[0m \u001b[1;33m=\u001b[0m \u001b[0msoup\u001b[0m\u001b[1;33m.\u001b[0m\u001b[0mfind\u001b[0m\u001b[1;33m(\u001b[0m\u001b[1;34m'meta'\u001b[0m\u001b[1;33m,\u001b[0m \u001b[0mattrs\u001b[0m\u001b[1;33m=\u001b[0m\u001b[1;33m{\u001b[0m\u001b[1;34m'property'\u001b[0m\u001b[1;33m:\u001b[0m\u001b[1;34m'og:description'\u001b[0m\u001b[1;33m}\u001b[0m\u001b[1;33m)\u001b[0m\u001b[1;33m\u001b[0m\u001b[1;33m\u001b[0m\u001b[0m\n",
            "\u001b[1;31mAttributeError\u001b[0m: module 'urllib' has no attribute 'urlopen'"
          ]
        }
      ],
      "source": [
        "external_sites_html = urllib.urlopen('https://www.instagram.com/<instagramname>/?hl=en')\n",
        "soup = BeautifulSoup(external_sites_html, 'lxml')\n",
        "\n",
        "name = soup.find('meta', attrs={'property':'og:title'})\n",
        "description = soup.find('meta', attrs={'property':'og:description'})\n",
        "\n",
        "# name of user\n",
        "nameContent = name.get('content')\n",
        "# information about followers and following users\n",
        "descrContent = description.get('content')"
      ]
    },
    {
      "cell_type": "code",
      "metadata": {
        "id": "AikRSMXRESph",
        "colab_type": "code",
        "colab": {
          "base_uri": "https://localhost:8080/",
          "height": 34
        },
        "outputId": "e42b962f-8dd9-44af-ae61-e135ecde2d36"
      },
      "source": [
        "!ls"
      ],
      "execution_count": null,
      "outputs": []
    },
    {
      "cell_type": "code",
      "metadata": {
        "id": "SMUCdCrhKLpa",
        "colab_type": "code",
        "colab": {}
      },
      "source": [
        "# Definie o intervalo de tempo para busca de tweets\n",
        "from datetime import date, timedelta\n",
        "import pandas as pd\n",
        "\n",
        "start_date = date(2019, 7, 28)   # China notificou OMS. WHO announced “COVID-19” as the name of this new disease on 11 February 2020.\n",
        "end_date = date.today()           # Data de hoje\n",
        "delta = timedelta(days=1)         # Intervalo para busca\n",
        "\n",
        "# Inicializa dataframe vazio para salvar todos os tweets\n",
        "col_names =  [\"date\", \"tweet\", \"username\", \"retweet\", \"nlikes\", \"nreplies\", \"nretweets\", \"near\"]\n",
        "tweets_dataframe  = pd.DataFrame(columns = col_names)"
      ],
      "execution_count": null,
      "outputs": []
    },
    {
      "cell_type": "code",
      "metadata": {
        "id": "WTaH7ZBlKetT",
        "colab_type": "code",
        "colab": {
          "base_uri": "https://localhost:8080/",
          "height": 1000
        },
        "outputId": "47a8cf2a-2124-40d6-92f4-704474cbe34f"
      },
      "source": [
        "# Busca tweets diariamente\n",
        "while start_date <= end_date:\n",
        "  # define intervalo de datas (1 dia)\n",
        "  date_string = start_date.strftime(\"%Y-%m-%d\") + ' 00:00:01'\n",
        "  next_date_string = start_date.strftime(\"%Y-%m-%d\") + ' 23:59:59'\n",
        "  start_date += delta               # pula para próximo dia\n",
        "\n",
        "  # busca tweets no intervalo definido\n",
        "  c = twint.Config()                # inicializa configuração de busca de tweets\n",
        "  c.Search = \"plus size\"            # termo a ser buscado\n",
        "  c.Limit = 1000                    # número de tweets a serem buscados\n",
        "  c.Lang = \"pt\"                     # tweets em inglês\n",
        "  c.Since = date_string             # data inicial para busca\n",
        "  c.Until = next_date_string        # data final\n",
        "  c.Near = 'Brazil'                 # local\n",
        "  c.Pandas = True                   # habilitar pandas para podermos extrair posteriormente um dataframe\n",
        "\n",
        "  #c.Translate = True                # utiliza api da google para fazer tradução do tweet (existe limite imposto pela google)\n",
        "  #c.TranslateDest = \"en\"            # para qual língua fazer a tradução\n",
        "  c.Store_csv = True                # salva resultado em csv\n",
        "  c.Output = \"tweets_plus_todos_uni.csv\"         # nome do arquivo csv para salvar tweets\n",
        "\n",
        "  # Run\n",
        "  twint.run.Search(c)               # recupera os tweets\n",
        "\n",
        "  # Extrai um dataframe\n",
        "  df = twint.storage.panda.Tweets_df\n",
        "\n",
        "  if not df.empty:\n",
        "    df = df[col_names]\n",
        "\n",
        "    # Concatena com dataframe final\n",
        "    tweets_dataframe = tweets_dataframe.append(df)"
      ],
      "execution_count": null,
      "outputs": []
    },
    {
      "cell_type": "code",
      "metadata": {
        "id": "71vTl4Z2UMvq",
        "colab_type": "code",
        "colab": {
          "base_uri": "https://localhost:8080/",
          "height": 204
        },
        "outputId": "556639a3-cb7e-4a13-9db1-57e3a45b87d7"
      },
      "source": [
        "# visualizar dataframe\n",
        "tweets_dataframe.head()"
      ],
      "execution_count": null,
      "outputs": []
    },
    {
      "cell_type": "code",
      "metadata": {
        "id": "Emt0QU1xUOY0",
        "colab_type": "code",
        "colab": {
          "base_uri": "https://localhost:8080/",
          "height": 34
        },
        "outputId": "114b2a91-239b-450c-d5ab-1b395ee6a784"
      },
      "source": [
        "# shape da base de dados\n",
        "tweets_dataframe.shape"
      ],
      "execution_count": null,
      "outputs": []
    },
    {
      "cell_type": "code",
      "metadata": {
        "id": "3nW4lu5cjQ0Q",
        "colab_type": "code",
        "colab": {}
      },
      "source": [
        "# Salva dataframe em um arquivo csv\n",
        "tweets_dataframe.to_csv('tweets_plus_uni.csv')"
      ],
      "execution_count": null,
      "outputs": []
    }
  ]
}